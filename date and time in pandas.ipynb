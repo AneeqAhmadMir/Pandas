{
 "cells": [
  {
   "cell_type": "code",
   "execution_count": 1,
   "id": "caa9498c-b4ba-4414-993a-f872c3f2141d",
   "metadata": {},
   "outputs": [],
   "source": [
    "import numpy as np\n",
    "import pandas as pd"
   ]
  },
  {
   "cell_type": "markdown",
   "id": "c1e5d6cf-09d3-4c4c-9528-43c5f2d440e1",
   "metadata": {},
   "source": [
    "## Timestamp Object\n",
    "#### Time stamps reference particular moments in time (e.g., Oct 24th, 2022 at 7:00pm)"
   ]
  },
  {
   "cell_type": "code",
   "execution_count": 2,
   "id": "83d44a5d-7853-4099-bea1-f575efcf4165",
   "metadata": {},
   "outputs": [
    {
     "data": {
      "text/plain": [
       "Timestamp('2024-08-17 00:00:00')"
      ]
     },
     "execution_count": 2,
     "metadata": {},
     "output_type": "execute_result"
    }
   ],
   "source": [
    "# creating a timestamp\n",
    "pd.Timestamp('2024/8/17') # year month day"
   ]
  },
  {
   "cell_type": "code",
   "execution_count": 3,
   "id": "664ce6be-efad-4a2b-98ff-bcc48171ca10",
   "metadata": {},
   "outputs": [
    {
     "data": {
      "text/plain": [
       "Timestamp('2024-08-17 00:00:00')"
      ]
     },
     "execution_count": 3,
     "metadata": {},
     "output_type": "execute_result"
    }
   ],
   "source": [
    "# variations\n",
    "pd.Timestamp('2024, 8, 17')\n",
    "# pd.Timestamp('2024-8-17')"
   ]
  },
  {
   "cell_type": "code",
   "execution_count": 4,
   "id": "e8f1ed31-ffcf-4f25-94f0-1a2d82c48722",
   "metadata": {},
   "outputs": [
    {
     "data": {
      "text/plain": [
       "Timestamp('2024-01-01 00:00:00')"
      ]
     },
     "execution_count": 4,
     "metadata": {},
     "output_type": "execute_result"
    }
   ],
   "source": [
    "# only year\n",
    "pd.Timestamp('2024')"
   ]
  },
  {
   "cell_type": "code",
   "execution_count": 5,
   "id": "1bff0a49-7a28-48ac-a9ea-530153fa60dd",
   "metadata": {},
   "outputs": [
    {
     "data": {
      "text/plain": [
       "Timestamp('2024-08-17 00:00:00')"
      ]
     },
     "execution_count": 5,
     "metadata": {},
     "output_type": "execute_result"
    }
   ],
   "source": [
    "# using text\n",
    "pd.Timestamp('17th August 2024')"
   ]
  },
  {
   "cell_type": "code",
   "execution_count": 6,
   "id": "58654190-e71c-476e-a99f-d28277d31615",
   "metadata": {},
   "outputs": [
    {
     "data": {
      "text/plain": [
       "Timestamp('2024-08-17 09:21:00')"
      ]
     },
     "execution_count": 6,
     "metadata": {},
     "output_type": "execute_result"
    }
   ],
   "source": [
    "# providing time also\n",
    "pd.Timestamp('17th August 2024 9:21AM')"
   ]
  },
  {
   "cell_type": "code",
   "execution_count": 7,
   "id": "f4e64de2-b3c9-4983-b00c-cc2b426e7506",
   "metadata": {},
   "outputs": [
    {
     "data": {
      "text/plain": [
       "Timestamp('2024-08-17 12:56:00')"
      ]
     },
     "execution_count": 7,
     "metadata": {},
     "output_type": "execute_result"
    }
   ],
   "source": [
    "pd.Timestamp('2024-08-17 12:56:00')"
   ]
  },
  {
   "cell_type": "markdown",
   "id": "d00afaf6-6b5a-4c07-8585-3e3615c8cc76",
   "metadata": {},
   "source": [
    "### why separate objects to handle data and time when python already has datetime functionality?\n",
    "- syntax wise datetime is very convenient\n",
    "- But the performance takes a hit while working with huge data. List vs Numpy Array\n",
    "- The weaknesses of Python's datetime format inspired the NumPy team to add a set of native time series data type to NumPy.\n",
    "- The datetime64 dtype encodes dates as 64-bit integers, and thus allows arrays of dates to be represented very compactly."
   ]
  },
  {
   "cell_type": "code",
   "execution_count": 8,
   "id": "c473a702-832f-4f9b-b88e-4e0fdc12a0bb",
   "metadata": {},
   "outputs": [
    {
     "data": {
      "text/plain": [
       "datetime.datetime(2024, 8, 17, 5, 23, 56)"
      ]
     },
     "execution_count": 8,
     "metadata": {},
     "output_type": "execute_result"
    }
   ],
   "source": [
    "# python datetime module\n",
    "# using datetime.datetime object\n",
    "import datetime as dt\n",
    "dt.datetime(2024,8,17,5,23,56)"
   ]
  },
  {
   "cell_type": "code",
   "execution_count": 9,
   "id": "5bd99c02-3ef9-4314-8c80-eb4fa10c5872",
   "metadata": {},
   "outputs": [
    {
     "data": {
      "text/plain": [
       "Timestamp('2024-08-17 05:23:56')"
      ]
     },
     "execution_count": 9,
     "metadata": {},
     "output_type": "execute_result"
    }
   ],
   "source": [
    "x= pd.Timestamp(dt.datetime(2024,8,17,5,23,56))\n",
    "x"
   ]
  },
  {
   "cell_type": "code",
   "execution_count": 10,
   "id": "2d98a9af-4d13-44a1-a1e6-5e4ef54bcf1c",
   "metadata": {},
   "outputs": [
    {
     "data": {
      "text/plain": [
       "2024"
      ]
     },
     "execution_count": 10,
     "metadata": {},
     "output_type": "execute_result"
    }
   ],
   "source": [
    "# fetching attributes\n",
    "x.year\n",
    "# x.month\n",
    "# x.day\n",
    "# x.hour\n",
    "# x.minute\n",
    "# x.second"
   ]
  },
  {
   "cell_type": "code",
   "execution_count": 11,
   "id": "f2341acd-30ba-4ce0-b732-52ad45d97350",
   "metadata": {},
   "outputs": [
    {
     "data": {
      "text/plain": [
       "array('2024-08-17', dtype='datetime64[D]')"
      ]
     },
     "execution_count": 11,
     "metadata": {},
     "output_type": "execute_result"
    }
   ],
   "source": [
    "import numpy as np\n",
    "date = np.array('2024-08-17', dtype=np.datetime64)\n",
    "date"
   ]
  },
  {
   "cell_type": "code",
   "execution_count": 12,
   "id": "d967fb3e-18a0-4fb9-8194-db22f617467b",
   "metadata": {},
   "outputs": [
    {
     "data": {
      "text/plain": [
       "array(['2024-08-17', '2024-08-18', '2024-08-19', '2024-08-20',\n",
       "       '2024-08-21', '2024-08-22', '2024-08-23', '2024-08-24',\n",
       "       '2024-08-25', '2024-08-26', '2024-08-27', '2024-08-28'],\n",
       "      dtype='datetime64[D]')"
      ]
     },
     "execution_count": 12,
     "metadata": {},
     "output_type": "execute_result"
    }
   ],
   "source": [
    "date + np.arange(12)"
   ]
  },
  {
   "cell_type": "markdown",
   "id": "81edfdb9-9017-4653-ab56-643929f87812",
   "metadata": {},
   "source": [
    "- Because of the uniform type in NumPy datetime64 arrays, this type of operation can be accomplished much more quickly than if we were working directly with Python's datetime objects, especially as arrays get large\n",
    "\n",
    "- Pandas Timestamp object combines the ease-of-use of python datetime with the efficient storage and vectorized interface of numpy.datetime64\n",
    "\n",
    "- From a group of these Timestamp objects, Pandas can construct a DatetimeIndex that can be used to index data in a Series or DataFrame"
   ]
  },
  {
   "cell_type": "markdown",
   "id": "48eabb53-5f74-497a-b6a5-c57c51366c2c",
   "metadata": {},
   "source": [
    "## Datetimeindex object\n",
    "#### collection of Timestamp [1 date ko store krny k liye Timestamp and multiple dates ko store krny k liye Datetimeindex]"
   ]
  },
  {
   "cell_type": "code",
   "execution_count": 13,
   "id": "d21544cb-0ba1-4bab-b49d-34ceeeee9029",
   "metadata": {},
   "outputs": [
    {
     "data": {
      "text/plain": [
       "DatetimeIndex(['2024-08-14', '2024-08-15', '2024-08-16', '2024-08-17'], dtype='datetime64[ns]', freq=None)"
      ]
     },
     "execution_count": 13,
     "metadata": {},
     "output_type": "execute_result"
    }
   ],
   "source": [
    "# from strings\n",
    "pd.DatetimeIndex(['2024/08/14','2024/08/15','2024/08/16','2024/08/17'])"
   ]
  },
  {
   "cell_type": "code",
   "execution_count": 14,
   "id": "586c06e1-e52e-4218-ad23-3aa5066ebcc4",
   "metadata": {},
   "outputs": [
    {
     "data": {
      "text/plain": [
       "Timestamp('2024-08-14 00:00:00')"
      ]
     },
     "execution_count": 14,
     "metadata": {},
     "output_type": "execute_result"
    }
   ],
   "source": [
    "pd.DatetimeIndex(['2024/08/14','2024/08/15','2024/08/16','2024/08/17'])[0]"
   ]
  },
  {
   "cell_type": "code",
   "execution_count": 15,
   "id": "134fc652-81f6-48a3-aafd-7da588c3b807",
   "metadata": {},
   "outputs": [
    {
     "data": {
      "text/plain": [
       "DatetimeIndex(['2024-08-15', '2024-08-16', '2024-08-17'], dtype='datetime64[ns]', freq=None)"
      ]
     },
     "execution_count": 15,
     "metadata": {},
     "output_type": "execute_result"
    }
   ],
   "source": [
    "# using python datetime object\n",
    "pd.DatetimeIndex([dt.datetime(2024,8,15),dt.datetime(2024,8,16),dt.datetime(2024,8,17)])"
   ]
  },
  {
   "cell_type": "code",
   "execution_count": 16,
   "id": "29ca2e75-c4ba-4451-a4a3-5a62ff88403f",
   "metadata": {},
   "outputs": [
    {
     "data": {
      "text/plain": [
       "DatetimeIndex(['2024-08-15', '2024-08-16', '2024-08-17'], dtype='datetime64[ns]', freq=None)"
      ]
     },
     "execution_count": 16,
     "metadata": {},
     "output_type": "execute_result"
    }
   ],
   "source": [
    "# using pd.timestamp\n",
    "dt_index=pd.DatetimeIndex([pd.Timestamp(2024,8,15),pd.Timestamp(2024,8,16),pd.Timestamp(2024,8,17)])\n",
    "dt_index"
   ]
  },
  {
   "cell_type": "code",
   "execution_count": 17,
   "id": "f9d740d3-17f4-44da-a1e7-cce654e73dbd",
   "metadata": {},
   "outputs": [
    {
     "data": {
      "text/plain": [
       "2024-08-15    1\n",
       "2024-08-16    2\n",
       "2024-08-17    3\n",
       "dtype: int64"
      ]
     },
     "execution_count": 17,
     "metadata": {},
     "output_type": "execute_result"
    }
   ],
   "source": [
    "# using dateimeindex as series index\n",
    "pd.Series([1,2,3],index=dt_index)"
   ]
  },
  {
   "cell_type": "markdown",
   "id": "0070a6f1-6a14-4607-be69-32216d574ce1",
   "metadata": {},
   "source": [
    "## date_range function"
   ]
  },
  {
   "cell_type": "code",
   "execution_count": 18,
   "id": "aca60ed1-effa-44bf-8615-29cb182c4574",
   "metadata": {},
   "outputs": [
    {
     "data": {
      "text/plain": [
       "DatetimeIndex(['2024-08-17', '2024-08-18', '2024-08-19', '2024-08-20',\n",
       "               '2024-08-21', '2024-08-22', '2024-08-23', '2024-08-24',\n",
       "               '2024-08-25', '2024-08-26', '2024-08-27', '2024-08-28',\n",
       "               '2024-08-29', '2024-08-30', '2024-08-31', '2024-09-01',\n",
       "               '2024-09-02', '2024-09-03', '2024-09-04', '2024-09-05'],\n",
       "              dtype='datetime64[ns]', freq='D')"
      ]
     },
     "execution_count": 18,
     "metadata": {},
     "output_type": "execute_result"
    }
   ],
   "source": [
    "# generate daily dates in given range\n",
    "pd.date_range(start = '2024/8/17',end ='2024/9/5') # freq = D by default if 3D then jumps 3"
   ]
  },
  {
   "cell_type": "code",
   "execution_count": 19,
   "id": "043800fd-1045-46f0-955f-e73ee6d02477",
   "metadata": {},
   "outputs": [
    {
     "data": {
      "text/plain": [
       "DatetimeIndex(['2024-08-17', '2024-08-19', '2024-08-21', '2024-08-23',\n",
       "               '2024-08-25', '2024-08-27', '2024-08-29', '2024-08-31',\n",
       "               '2024-09-02', '2024-09-04'],\n",
       "              dtype='datetime64[ns]', freq='2D')"
      ]
     },
     "execution_count": 19,
     "metadata": {},
     "output_type": "execute_result"
    }
   ],
   "source": [
    "# alternate days in given range\n",
    "pd.date_range(start = '2024/8/17',end='2024/9/5',freq='2D')"
   ]
  },
  {
   "cell_type": "code",
   "execution_count": 20,
   "id": "2e08b1cb-265d-482a-89b2-9b59e0b34c36",
   "metadata": {},
   "outputs": [
    {
     "data": {
      "text/plain": [
       "DatetimeIndex(['2024-08-19', '2024-08-20', '2024-08-21', '2024-08-22',\n",
       "               '2024-08-23', '2024-08-26', '2024-08-27', '2024-08-28',\n",
       "               '2024-08-29', '2024-08-30', '2024-09-02', '2024-09-03',\n",
       "               '2024-09-04', '2024-09-05'],\n",
       "              dtype='datetime64[ns]', freq='B')"
      ]
     },
     "execution_count": 20,
     "metadata": {},
     "output_type": "execute_result"
    }
   ],
   "source": [
    "# B------> buisness days\n",
    "pd.date_range(start='2024/8/17',end='2024/9/5',freq='B')"
   ]
  },
  {
   "cell_type": "code",
   "execution_count": 21,
   "id": "2085295d-412f-4eb3-a5f9-25d0ab43af2e",
   "metadata": {},
   "outputs": [
    {
     "data": {
      "text/plain": [
       "DatetimeIndex(['2024-08-04', '2024-08-11', '2024-08-18', '2024-08-25'], dtype='datetime64[ns]', freq='W-SUN')"
      ]
     },
     "execution_count": 21,
     "metadata": {},
     "output_type": "execute_result"
    }
   ],
   "source": [
    "# one week per day\n",
    "pd.date_range(start='2024/8/1',end='2024/8/31',freq='W') # by default sundays"
   ]
  },
  {
   "cell_type": "code",
   "execution_count": 22,
   "id": "1a3864a8-63a1-46f7-b335-e12cb94d2531",
   "metadata": {},
   "outputs": [
    {
     "data": {
      "text/plain": [
       "DatetimeIndex(['2024-08-02', '2024-08-09', '2024-08-16', '2024-08-23',\n",
       "               '2024-08-30'],\n",
       "              dtype='datetime64[ns]', freq='W-FRI')"
      ]
     },
     "execution_count": 22,
     "metadata": {},
     "output_type": "execute_result"
    }
   ],
   "source": [
    "pd.date_range(start='2024/8/1',end='2024/8/31',freq='W-Fri')"
   ]
  },
  {
   "cell_type": "code",
   "execution_count": 23,
   "id": "8fcdb6a1-78f6-4380-9a89-4a59884f0425",
   "metadata": {},
   "outputs": [
    {
     "data": {
      "text/plain": [
       "DatetimeIndex(['2024-08-17 00:00:00', '2024-08-17 01:00:00',\n",
       "               '2024-08-17 02:00:00', '2024-08-17 03:00:00',\n",
       "               '2024-08-17 04:00:00', '2024-08-17 05:00:00',\n",
       "               '2024-08-17 06:00:00', '2024-08-17 07:00:00',\n",
       "               '2024-08-17 08:00:00', '2024-08-17 09:00:00',\n",
       "               ...\n",
       "               '2024-08-30 15:00:00', '2024-08-30 16:00:00',\n",
       "               '2024-08-30 17:00:00', '2024-08-30 18:00:00',\n",
       "               '2024-08-30 19:00:00', '2024-08-30 20:00:00',\n",
       "               '2024-08-30 21:00:00', '2024-08-30 22:00:00',\n",
       "               '2024-08-30 23:00:00', '2024-08-31 00:00:00'],\n",
       "              dtype='datetime64[ns]', length=337, freq='h')"
      ]
     },
     "execution_count": 23,
     "metadata": {},
     "output_type": "execute_result"
    }
   ],
   "source": [
    "# H --------> hourly datafactor\n",
    "pd.date_range(start='2024/8/17',end='2024/8/31',freq='h')"
   ]
  },
  {
   "cell_type": "code",
   "execution_count": 24,
   "id": "21c1047b-7308-4526-81e5-7cca8e8ec6f6",
   "metadata": {},
   "outputs": [
    {
     "data": {
      "text/plain": [
       "DatetimeIndex(['2024-08-17 00:00:00', '2024-08-17 06:00:00',\n",
       "               '2024-08-17 12:00:00', '2024-08-17 18:00:00',\n",
       "               '2024-08-18 00:00:00', '2024-08-18 06:00:00',\n",
       "               '2024-08-18 12:00:00', '2024-08-18 18:00:00',\n",
       "               '2024-08-19 00:00:00', '2024-08-19 06:00:00',\n",
       "               '2024-08-19 12:00:00', '2024-08-19 18:00:00',\n",
       "               '2024-08-20 00:00:00'],\n",
       "              dtype='datetime64[ns]', freq='6h')"
      ]
     },
     "execution_count": 24,
     "metadata": {},
     "output_type": "execute_result"
    }
   ],
   "source": [
    "pd.date_range(start='2024/8/17',end='2024/8/20',freq='6h')"
   ]
  },
  {
   "cell_type": "code",
   "execution_count": 25,
   "id": "07a11bac-5030-459a-bec6-bf266840cd83",
   "metadata": {},
   "outputs": [
    {
     "data": {
      "text/plain": [
       "DatetimeIndex(['2024-08-31', '2024-09-30', '2024-10-31', '2024-11-30',\n",
       "               '2024-12-31'],\n",
       "              dtype='datetime64[ns]', freq='ME')"
      ]
     },
     "execution_count": 25,
     "metadata": {},
     "output_type": "execute_result"
    }
   ],
   "source": [
    "# ME ---> Month end\n",
    "pd.date_range(start='2024/8/1',end='2024/12/31',freq='ME')"
   ]
  },
  {
   "cell_type": "code",
   "execution_count": 26,
   "id": "4cd0c8c9-bcd0-4983-bb89-d67b9695724e",
   "metadata": {},
   "outputs": [
    {
     "data": {
      "text/plain": [
       "DatetimeIndex(['2024-08-01', '2024-09-01', '2024-10-01', '2024-11-01',\n",
       "               '2024-12-01'],\n",
       "              dtype='datetime64[ns]', freq='MS')"
      ]
     },
     "execution_count": 26,
     "metadata": {},
     "output_type": "execute_result"
    }
   ],
   "source": [
    "# MS ---> Month end\n",
    "pd.date_range(start='2024/8/1',end='2024/12/31',freq='MS')"
   ]
  },
  {
   "cell_type": "code",
   "execution_count": 27,
   "id": "0f9d12cc-f4d2-4afe-87b0-0cb8c8e81ab6",
   "metadata": {},
   "outputs": [
    {
     "data": {
      "text/plain": [
       "DatetimeIndex(['2024-12-31', '2025-12-31', '2026-12-31', '2027-12-31'], dtype='datetime64[ns]', freq='YE-DEC')"
      ]
     },
     "execution_count": 27,
     "metadata": {},
     "output_type": "execute_result"
    }
   ],
   "source": [
    "# YE ---> Year end\n",
    "pd.date_range(start='2024/8/1',end='2027/12/31',freq='YE')"
   ]
  },
  {
   "cell_type": "code",
   "execution_count": 28,
   "id": "5158d140-9ee2-4852-8d07-a9d986a6d5f5",
   "metadata": {},
   "outputs": [
    {
     "data": {
      "text/plain": [
       "DatetimeIndex(['2024-08-01', '2024-08-02', '2024-08-03', '2024-08-04',\n",
       "               '2024-08-05', '2024-08-06', '2024-08-07', '2024-08-08',\n",
       "               '2024-08-09', '2024-08-10', '2024-08-11', '2024-08-12',\n",
       "               '2024-08-13', '2024-08-14', '2024-08-15', '2024-08-16',\n",
       "               '2024-08-17', '2024-08-18', '2024-08-19', '2024-08-20',\n",
       "               '2024-08-21', '2024-08-22', '2024-08-23', '2024-08-24',\n",
       "               '2024-08-25'],\n",
       "              dtype='datetime64[ns]', freq='D')"
      ]
     },
     "execution_count": 28,
     "metadata": {},
     "output_type": "execute_result"
    }
   ],
   "source": [
    "# using periods (number of results)\n",
    "pd.date_range(start='2024/8/1',periods=25,freq='D')"
   ]
  },
  {
   "cell_type": "markdown",
   "id": "a93a7330-e09d-472f-bc18-31d537d128d1",
   "metadata": {},
   "source": [
    "## to_datetime function\n",
    "#### converts an existing objects to pandas timestamp/datetime index object"
   ]
  },
  {
   "cell_type": "code",
   "execution_count": 29,
   "id": "8dfd7ca1-5b73-456f-b777-eb723706bd03",
   "metadata": {},
   "outputs": [
    {
     "data": {
      "text/plain": [
       "0    2024-08-17\n",
       "1    2025-09-18\n",
       "2    2025-10-19\n",
       "dtype: object"
      ]
     },
     "execution_count": 29,
     "metadata": {},
     "output_type": "execute_result"
    }
   ],
   "source": [
    "# simple series example\n",
    "s= pd.Series(['2024-08-17', '2025-09-18', '2025-10-19'])\n",
    "s"
   ]
  },
  {
   "cell_type": "code",
   "execution_count": 30,
   "id": "92d3847c-614c-488d-a33e-dd66305f472f",
   "metadata": {},
   "outputs": [
    {
     "data": {
      "text/plain": [
       "0    2024\n",
       "1    2025\n",
       "2    2025\n",
       "dtype: int32"
      ]
     },
     "execution_count": 30,
     "metadata": {},
     "output_type": "execute_result"
    }
   ],
   "source": [
    "pd.to_datetime(s).dt.year"
   ]
  },
  {
   "cell_type": "code",
   "execution_count": 31,
   "id": "101280b9-c3e7-45e4-aa08-ecad4a132deb",
   "metadata": {},
   "outputs": [
    {
     "data": {
      "text/plain": [
       "0     8\n",
       "1     9\n",
       "2    10\n",
       "dtype: int32"
      ]
     },
     "execution_count": 31,
     "metadata": {},
     "output_type": "execute_result"
    }
   ],
   "source": [
    "pd.to_datetime(s).dt.month"
   ]
  },
  {
   "cell_type": "code",
   "execution_count": 32,
   "id": "a652d136-50e3-42a1-abb0-c650c217243d",
   "metadata": {},
   "outputs": [
    {
     "data": {
      "text/plain": [
       "0    17\n",
       "1    18\n",
       "2    19\n",
       "dtype: int32"
      ]
     },
     "execution_count": 32,
     "metadata": {},
     "output_type": "execute_result"
    }
   ],
   "source": [
    "pd.to_datetime(s).dt.day"
   ]
  },
  {
   "cell_type": "code",
   "execution_count": 33,
   "id": "b925eb54-891c-487f-9460-ac07640ae544",
   "metadata": {},
   "outputs": [
    {
     "data": {
      "text/plain": [
       "0       August\n",
       "1    September\n",
       "2      October\n",
       "dtype: object"
      ]
     },
     "execution_count": 33,
     "metadata": {},
     "output_type": "execute_result"
    }
   ],
   "source": [
    "pd.to_datetime(s).dt.month_name()"
   ]
  },
  {
   "cell_type": "code",
   "execution_count": 34,
   "id": "b2ff444e-3927-4c5e-a3ff-5eba2ee9af9b",
   "metadata": {},
   "outputs": [
    {
     "data": {
      "text/plain": [
       "0    Saturday\n",
       "1    Thursday\n",
       "2      Sunday\n",
       "dtype: object"
      ]
     },
     "execution_count": 34,
     "metadata": {},
     "output_type": "execute_result"
    }
   ],
   "source": [
    "pd.to_datetime(s).dt.day_name()"
   ]
  },
  {
   "cell_type": "code",
   "execution_count": 35,
   "id": "92987255-9bc6-478c-b04e-9bd4ce0ceb7c",
   "metadata": {},
   "outputs": [
    {
     "data": {
      "text/plain": [
       "0     2024/08/17\n",
       "1    2024/200/18\n",
       "2     2024/08/19\n",
       "dtype: object"
      ]
     },
     "execution_count": 35,
     "metadata": {},
     "output_type": "execute_result"
    }
   ],
   "source": [
    "# with errors since 200 is  not a date\n",
    "s= pd.Series(['2024/08/17', '2024/200/18', '2024/08/19'])\n",
    "s"
   ]
  },
  {
   "cell_type": "code",
   "execution_count": 36,
   "id": "cf67428a-f0e3-4376-9994-5ace4a8b6b86",
   "metadata": {},
   "outputs": [
    {
     "data": {
      "text/plain": [
       "0   2024-08-17\n",
       "1          NaT\n",
       "2   2024-08-19\n",
       "dtype: datetime64[ns]"
      ]
     },
     "execution_count": 36,
     "metadata": {},
     "output_type": "execute_result"
    }
   ],
   "source": [
    "# pd.to_datetime(s) it throws an error \n",
    "pd.to_datetime(s,errors='coerce')"
   ]
  },
  {
   "cell_type": "code",
   "execution_count": 37,
   "id": "0b43f4f1-41fd-4deb-ae47-41a1d3959d7b",
   "metadata": {},
   "outputs": [
    {
     "data": {
      "text/plain": [
       "0    2024.0\n",
       "1       NaN\n",
       "2    2024.0\n",
       "dtype: float64"
      ]
     },
     "execution_count": 37,
     "metadata": {},
     "output_type": "execute_result"
    }
   ],
   "source": [
    "pd.to_datetime(s,errors='coerce').dt.year"
   ]
  },
  {
   "cell_type": "code",
   "execution_count": 38,
   "id": "fdc304f5-b47f-4a68-98b0-3df512f49c85",
   "metadata": {},
   "outputs": [
    {
     "data": {
      "text/plain": [
       "(277, 11)"
      ]
     },
     "execution_count": 38,
     "metadata": {},
     "output_type": "execute_result"
    }
   ],
   "source": [
    "df = pd.read_csv('expense_data.csv')\n",
    "df.shape"
   ]
  },
  {
   "cell_type": "code",
   "execution_count": 39,
   "id": "5ec77e46-b57b-42a4-92f3-6cd32f3d6ca4",
   "metadata": {},
   "outputs": [
    {
     "data": {
      "text/html": [
       "<div>\n",
       "<style scoped>\n",
       "    .dataframe tbody tr th:only-of-type {\n",
       "        vertical-align: middle;\n",
       "    }\n",
       "\n",
       "    .dataframe tbody tr th {\n",
       "        vertical-align: top;\n",
       "    }\n",
       "\n",
       "    .dataframe thead th {\n",
       "        text-align: right;\n",
       "    }\n",
       "</style>\n",
       "<table border=\"1\" class=\"dataframe\">\n",
       "  <thead>\n",
       "    <tr style=\"text-align: right;\">\n",
       "      <th></th>\n",
       "      <th>Date</th>\n",
       "      <th>Account</th>\n",
       "      <th>Category</th>\n",
       "      <th>Subcategory</th>\n",
       "      <th>Note</th>\n",
       "      <th>INR</th>\n",
       "      <th>Income/Expense</th>\n",
       "      <th>Note.1</th>\n",
       "      <th>Amount</th>\n",
       "      <th>Currency</th>\n",
       "      <th>Account.1</th>\n",
       "    </tr>\n",
       "  </thead>\n",
       "  <tbody>\n",
       "    <tr>\n",
       "      <th>0</th>\n",
       "      <td>3/2/2022 10:11</td>\n",
       "      <td>CUB - online payment</td>\n",
       "      <td>Food</td>\n",
       "      <td>NaN</td>\n",
       "      <td>Brownie</td>\n",
       "      <td>50.0</td>\n",
       "      <td>Expense</td>\n",
       "      <td>NaN</td>\n",
       "      <td>50.0</td>\n",
       "      <td>INR</td>\n",
       "      <td>50.0</td>\n",
       "    </tr>\n",
       "    <tr>\n",
       "      <th>1</th>\n",
       "      <td>3/2/2022 10:11</td>\n",
       "      <td>CUB - online payment</td>\n",
       "      <td>Other</td>\n",
       "      <td>NaN</td>\n",
       "      <td>To lended people</td>\n",
       "      <td>300.0</td>\n",
       "      <td>Expense</td>\n",
       "      <td>NaN</td>\n",
       "      <td>300.0</td>\n",
       "      <td>INR</td>\n",
       "      <td>300.0</td>\n",
       "    </tr>\n",
       "    <tr>\n",
       "      <th>2</th>\n",
       "      <td>3/1/2022 19:50</td>\n",
       "      <td>CUB - online payment</td>\n",
       "      <td>Food</td>\n",
       "      <td>NaN</td>\n",
       "      <td>Dinner</td>\n",
       "      <td>78.0</td>\n",
       "      <td>Expense</td>\n",
       "      <td>NaN</td>\n",
       "      <td>78.0</td>\n",
       "      <td>INR</td>\n",
       "      <td>78.0</td>\n",
       "    </tr>\n",
       "  </tbody>\n",
       "</table>\n",
       "</div>"
      ],
      "text/plain": [
       "             Date               Account Category  Subcategory  \\\n",
       "0  3/2/2022 10:11  CUB - online payment     Food          NaN   \n",
       "1  3/2/2022 10:11  CUB - online payment    Other          NaN   \n",
       "2  3/1/2022 19:50  CUB - online payment     Food          NaN   \n",
       "\n",
       "               Note    INR Income/Expense  Note.1  Amount Currency  Account.1  \n",
       "0           Brownie   50.0        Expense     NaN    50.0      INR       50.0  \n",
       "1  To lended people  300.0        Expense     NaN   300.0      INR      300.0  \n",
       "2            Dinner   78.0        Expense     NaN    78.0      INR       78.0  "
      ]
     },
     "execution_count": 39,
     "metadata": {},
     "output_type": "execute_result"
    }
   ],
   "source": [
    "df.head(3)"
   ]
  },
  {
   "cell_type": "code",
   "execution_count": 40,
   "id": "ea7d8cb2-003c-44c6-9c2d-3efcbdfeb735",
   "metadata": {},
   "outputs": [
    {
     "name": "stdout",
     "output_type": "stream",
     "text": [
      "<class 'pandas.core.frame.DataFrame'>\n",
      "RangeIndex: 277 entries, 0 to 276\n",
      "Data columns (total 11 columns):\n",
      " #   Column          Non-Null Count  Dtype  \n",
      "---  ------          --------------  -----  \n",
      " 0   Date            277 non-null    object \n",
      " 1   Account         277 non-null    object \n",
      " 2   Category        277 non-null    object \n",
      " 3   Subcategory     0 non-null      float64\n",
      " 4   Note            273 non-null    object \n",
      " 5   INR             277 non-null    float64\n",
      " 6   Income/Expense  277 non-null    object \n",
      " 7   Note.1          0 non-null      float64\n",
      " 8   Amount          277 non-null    float64\n",
      " 9   Currency        277 non-null    object \n",
      " 10  Account.1       277 non-null    float64\n",
      "dtypes: float64(5), object(6)\n",
      "memory usage: 23.9+ KB\n"
     ]
    }
   ],
   "source": [
    "df.info()"
   ]
  },
  {
   "cell_type": "code",
   "execution_count": 41,
   "id": "3e0bde49-7c00-44d1-9e64-c601e6b085a0",
   "metadata": {},
   "outputs": [
    {
     "data": {
      "text/plain": [
       "0     2022-03-02 10:11:00\n",
       "1     2022-03-02 10:11:00\n",
       "2     2022-03-01 19:50:00\n",
       "3     2022-03-01 18:56:00\n",
       "4     2022-03-01 18:22:00\n",
       "              ...        \n",
       "272   2021-11-22 14:16:00\n",
       "273   2021-11-22 14:16:00\n",
       "274   2021-11-21 17:07:00\n",
       "275   2021-11-21 15:50:00\n",
       "276   2021-11-21 13:30:00\n",
       "Name: Date, Length: 277, dtype: datetime64[ns]"
      ]
     },
     "execution_count": 41,
     "metadata": {},
     "output_type": "execute_result"
    }
   ],
   "source": [
    "# now we can convert date objects into datetime\n",
    "pd.to_datetime(df['Date'])"
   ]
  },
  {
   "cell_type": "code",
   "execution_count": 42,
   "id": "2466f1a7-ddc0-47c9-a654-9f30b655f12f",
   "metadata": {},
   "outputs": [
    {
     "data": {
      "text/plain": [
       "0     2022-03-02 10:11:00\n",
       "1     2022-03-02 10:11:00\n",
       "2     2022-03-02 10:11:00\n",
       "3     2022-03-02 10:11:00\n",
       "4     2022-03-02 10:11:00\n",
       "              ...        \n",
       "272   2022-03-02 10:11:00\n",
       "273   2022-03-02 10:11:00\n",
       "274   2022-03-02 10:11:00\n",
       "275   2022-03-02 10:11:00\n",
       "276   2022-03-02 10:11:00\n",
       "Name: Date, Length: 277, dtype: datetime64[ns]"
      ]
     },
     "execution_count": 42,
     "metadata": {},
     "output_type": "execute_result"
    }
   ],
   "source": [
    "df['Date'] =pd.to_datetime(df['Date'])[0]\n",
    "df['Date']"
   ]
  },
  {
   "cell_type": "code",
   "execution_count": 43,
   "id": "70e9a679-e480-4a18-8f9a-5682c1e5a826",
   "metadata": {},
   "outputs": [
    {
     "data": {
      "text/plain": [
       "0      2022\n",
       "1      2022\n",
       "2      2022\n",
       "3      2022\n",
       "4      2022\n",
       "       ... \n",
       "272    2022\n",
       "273    2022\n",
       "274    2022\n",
       "275    2022\n",
       "276    2022\n",
       "Name: Date, Length: 277, dtype: int32"
      ]
     },
     "execution_count": 43,
     "metadata": {},
     "output_type": "execute_result"
    }
   ],
   "source": [
    "# now we can access every part from date\n",
    "df['Date'].dt.year"
   ]
  },
  {
   "cell_type": "code",
   "execution_count": 44,
   "id": "4b3c5961-3f02-46d1-98c3-c08d48ed1a28",
   "metadata": {},
   "outputs": [
    {
     "data": {
      "text/plain": [
       "0      March\n",
       "1      March\n",
       "2      March\n",
       "3      March\n",
       "4      March\n",
       "       ...  \n",
       "272    March\n",
       "273    March\n",
       "274    March\n",
       "275    March\n",
       "276    March\n",
       "Name: Date, Length: 277, dtype: object"
      ]
     },
     "execution_count": 44,
     "metadata": {},
     "output_type": "execute_result"
    }
   ],
   "source": [
    "df['Date'].dt.month_name()"
   ]
  },
  {
   "cell_type": "code",
   "execution_count": 45,
   "id": "9967e479-1baf-42d1-a6f2-739d5ee0fb9c",
   "metadata": {},
   "outputs": [
    {
     "data": {
      "text/plain": [
       "0      False\n",
       "1      False\n",
       "2      False\n",
       "3      False\n",
       "4      False\n",
       "       ...  \n",
       "272    False\n",
       "273    False\n",
       "274    False\n",
       "275    False\n",
       "276    False\n",
       "Name: Date, Length: 277, dtype: bool"
      ]
     },
     "execution_count": 45,
     "metadata": {},
     "output_type": "execute_result"
    }
   ],
   "source": [
    "df['Date'].dt.is_month_end"
   ]
  },
  {
   "cell_type": "code",
   "execution_count": 46,
   "id": "4a2ba32b-44fb-4a3e-9fd8-c06aae415bbe",
   "metadata": {},
   "outputs": [
    {
     "data": {
      "text/plain": [
       "[<matplotlib.lines.Line2D at 0x1c8538eff50>]"
      ]
     },
     "execution_count": 46,
     "metadata": {},
     "output_type": "execute_result"
    },
    {
     "data": {
      "image/png": "[encoded data removed]",
      "text/plain": [
       "<Figure size 640x480 with 1 Axes>"
      ]
     },
     "metadata": {},
     "output_type": "display_data"
    }
   ],
   "source": [
    "# plot graph\n",
    "import matplotlib.pyplot as plt\n",
    "plt.plot(df['Date'],df['INR'])"
   ]
  },
  {
   "cell_type": "code",
   "execution_count": 47,
   "id": "f54f0f40-1119-4c3b-a409-d3abbbf7b1ca",
   "metadata": {},
   "outputs": [
    {
     "data": {
      "text/plain": [
       "0      Wednesday\n",
       "1      Wednesday\n",
       "2      Wednesday\n",
       "3      Wednesday\n",
       "4      Wednesday\n",
       "         ...    \n",
       "272    Wednesday\n",
       "273    Wednesday\n",
       "274    Wednesday\n",
       "275    Wednesday\n",
       "276    Wednesday\n",
       "Name: day_name, Length: 277, dtype: object"
      ]
     },
     "execution_count": 47,
     "metadata": {},
     "output_type": "execute_result"
    }
   ],
   "source": [
    "# Day wise bar chart/month wise bar chart\n",
    "df['day_name']=df['Date'].dt.day_name()\n",
    "df['day_name']"
   ]
  },
  {
   "cell_type": "code",
   "execution_count": 48,
   "id": "c02aad79-c809-4d3f-9a33-229ad567b477",
   "metadata": {},
   "outputs": [
    {
     "data": {
      "text/html": [
       "<div>\n",
       "<style scoped>\n",
       "    .dataframe tbody tr th:only-of-type {\n",
       "        vertical-align: middle;\n",
       "    }\n",
       "\n",
       "    .dataframe tbody tr th {\n",
       "        vertical-align: top;\n",
       "    }\n",
       "\n",
       "    .dataframe thead th {\n",
       "        text-align: right;\n",
       "    }\n",
       "</style>\n",
       "<table border=\"1\" class=\"dataframe\">\n",
       "  <thead>\n",
       "    <tr style=\"text-align: right;\">\n",
       "      <th></th>\n",
       "      <th>Date</th>\n",
       "      <th>Account</th>\n",
       "      <th>Category</th>\n",
       "      <th>Subcategory</th>\n",
       "      <th>Note</th>\n",
       "      <th>INR</th>\n",
       "      <th>Income/Expense</th>\n",
       "      <th>Note.1</th>\n",
       "      <th>Amount</th>\n",
       "      <th>Currency</th>\n",
       "      <th>Account.1</th>\n",
       "      <th>day_name</th>\n",
       "    </tr>\n",
       "  </thead>\n",
       "  <tbody>\n",
       "    <tr>\n",
       "      <th>0</th>\n",
       "      <td>2022-03-02 10:11:00</td>\n",
       "      <td>CUB - online payment</td>\n",
       "      <td>Food</td>\n",
       "      <td>NaN</td>\n",
       "      <td>Brownie</td>\n",
       "      <td>50.0</td>\n",
       "      <td>Expense</td>\n",
       "      <td>NaN</td>\n",
       "      <td>50.0</td>\n",
       "      <td>INR</td>\n",
       "      <td>50.0</td>\n",
       "      <td>Wednesday</td>\n",
       "    </tr>\n",
       "    <tr>\n",
       "      <th>1</th>\n",
       "      <td>2022-03-02 10:11:00</td>\n",
       "      <td>CUB - online payment</td>\n",
       "      <td>Other</td>\n",
       "      <td>NaN</td>\n",
       "      <td>To lended people</td>\n",
       "      <td>300.0</td>\n",
       "      <td>Expense</td>\n",
       "      <td>NaN</td>\n",
       "      <td>300.0</td>\n",
       "      <td>INR</td>\n",
       "      <td>300.0</td>\n",
       "      <td>Wednesday</td>\n",
       "    </tr>\n",
       "    <tr>\n",
       "      <th>2</th>\n",
       "      <td>2022-03-02 10:11:00</td>\n",
       "      <td>CUB - online payment</td>\n",
       "      <td>Food</td>\n",
       "      <td>NaN</td>\n",
       "      <td>Dinner</td>\n",
       "      <td>78.0</td>\n",
       "      <td>Expense</td>\n",
       "      <td>NaN</td>\n",
       "      <td>78.0</td>\n",
       "      <td>INR</td>\n",
       "      <td>78.0</td>\n",
       "      <td>Wednesday</td>\n",
       "    </tr>\n",
       "  </tbody>\n",
       "</table>\n",
       "</div>"
      ],
      "text/plain": [
       "                 Date               Account Category  Subcategory  \\\n",
       "0 2022-03-02 10:11:00  CUB - online payment     Food          NaN   \n",
       "1 2022-03-02 10:11:00  CUB - online payment    Other          NaN   \n",
       "2 2022-03-02 10:11:00  CUB - online payment     Food          NaN   \n",
       "\n",
       "               Note    INR Income/Expense  Note.1  Amount Currency  Account.1  \\\n",
       "0           Brownie   50.0        Expense     NaN    50.0      INR       50.0   \n",
       "1  To lended people  300.0        Expense     NaN   300.0      INR      300.0   \n",
       "2            Dinner   78.0        Expense     NaN    78.0      INR       78.0   \n",
       "\n",
       "    day_name  \n",
       "0  Wednesday  \n",
       "1  Wednesday  \n",
       "2  Wednesday  "
      ]
     },
     "execution_count": 48,
     "metadata": {},
     "output_type": "execute_result"
    }
   ],
   "source": [
    "df.head(3)"
   ]
  },
  {
   "cell_type": "code",
   "execution_count": 49,
   "id": "c11aea85-80bd-4ec9-bb3e-c423414499f2",
   "metadata": {},
   "outputs": [
    {
     "data": {
      "text/plain": [
       "<Axes: xlabel='day_name'>"
      ]
     },
     "execution_count": 49,
     "metadata": {},
     "output_type": "execute_result"
    },
    {
     "data": {
      "image/png": "[encoded data removed]",
      "text/plain": [
       "<Figure size 640x480 with 1 Axes>"
      ]
     },
     "metadata": {},
     "output_type": "display_data"
    }
   ],
   "source": [
    "df.groupby('day_name')['INR'].sum().plot(kind='bar')"
   ]
  },
  {
   "cell_type": "code",
   "execution_count": null,
   "id": "1fb91363-b026-4db5-8c4c-e313e04c1b0a",
   "metadata": {},
   "outputs": [],
   "source": []
  }
 ],
 "metadata": {
  "kernelspec": {
   "display_name": "Python 3 (ipykernel)",
   "language": "python",
   "name": "python3"
  },
  "language_info": {
   "codemirror_mode": {
    "name": "ipython",
    "version": 3
   },
   "file_extension": ".py",
   "mimetype": "text/x-python",
   "name": "python",
   "nbconvert_exporter": "python",
   "pygments_lexer": "ipython3",
   "version": "3.12.3"
  }
 },
 "nbformat": 4,
 "nbformat_minor": 5
}
